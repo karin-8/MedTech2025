{
  "nbformat": 4,
  "nbformat_minor": 0,
  "metadata": {
    "colab": {
      "provenance": []
    },
    "kernelspec": {
      "name": "python3",
      "display_name": "Python 3"
    },
    "language_info": {
      "name": "python"
    }
  },
  "cells": [
    {
      "cell_type": "markdown",
      "source": [
        "# 🏥 Notebook 2: Computer Vision in Healthcare\n",
        "\n",
        "In this notebook, you’ll apply what you learned to a real healthcare problem:  \n",
        "**detecting pneumonia from chest X-ray images**.  \n",
        "\n",
        "---\n",
        "\n",
        "## 🎯 Learning Objectives\n",
        "By the end of this notebook, you will be able to:\n",
        "1. Prepare medical images (X-rays) for training a deep learning model.  \n",
        "2. Apply **transfer learning** using ResNet to a healthcare task.  \n",
        "3. Evaluate model performance and interpret results.  \n",
        "4. Reflect on the limitations and ethical considerations of AI in medicine.  \n",
        "\n",
        "---\n",
        "\n",
        "## 🏥 Why this matters\n",
        "- Pneumonia is a leading cause of death worldwide.  \n",
        "- Radiologists often need to examine thousands of X-rays under time pressure.  \n",
        "- AI models can help **assist diagnosis** by flagging suspicious cases.  \n",
        "\n",
        "👉 In this notebook, you’ll **train a CNN to detect pneumonia** using chest X-rays.\n"
      ],
      "metadata": {
        "id": "N9c9FEiSqCSF"
      }
    },
    {
      "cell_type": "markdown",
      "source": [
        "## 2.1 Data Preparation\n",
        "\n",
        "Medical images are often:\n",
        "- Different sizes (512×512, 1024×1024, etc.)  \n",
        "- Different intensity ranges (depending on the scanner used)  \n",
        "\n",
        "We’ll:\n",
        "1. Resize all images to **224×224**  \n",
        "2. Convert them to tensors (numerical format)  \n",
        "3. Normalize pixel values  \n"
      ],
      "metadata": {
        "id": "b9HgBeJvqJt5"
      }
    },
    {
      "cell_type": "code",
      "source": [
        "#@title Define Image Transformations\n",
        "import torchvision.transforms as transforms\n",
        "\n",
        "image_transformations = transforms.Compose([\n",
        "    transforms.Resize((224, 224)),\n",
        "    transforms.ToTensor(),\n",
        "    transforms.Normalize(mean=[0.5], std=[0.5])  # grayscale X-rays\n",
        "])\n",
        "\n",
        "print(\"✅ Transformations ready!\")\n"
      ],
      "metadata": {
        "id": "hPoZmZ4lZ2B0"
      },
      "execution_count": null,
      "outputs": []
    },
    {
      "cell_type": "code",
      "source": [
        "#@title Upload and Preview an X-ray\n",
        "from google.colab import files\n",
        "from PIL import Image\n",
        "import matplotlib.pyplot as plt\n",
        "\n",
        "uploaded = files.upload()\n",
        "\n",
        "for fname in uploaded.keys():\n",
        "    img = Image.open(fname).convert(\"L\")  # grayscale\n",
        "    plt.figure(figsize=(6,3))\n",
        "\n",
        "    # Original\n",
        "    plt.subplot(1,2,1)\n",
        "    plt.imshow(img, cmap=\"gray\")\n",
        "    plt.title(\"Original X-ray\")\n",
        "\n",
        "    # Transformed\n",
        "    transformed = image_transformations(img)\n",
        "    plt.subplot(1,2,2)\n",
        "    plt.imshow(transformed[0], cmap=\"gray\")\n",
        "    plt.title(\"Transformed X-ray\")\n",
        "    plt.show()\n"
      ],
      "metadata": {
        "id": "chW1O8kGqFs-"
      },
      "execution_count": null,
      "outputs": []
    },
    {
      "cell_type": "markdown",
      "source": [
        "## 2.2 Transfer Learning with ResNet\n",
        "\n",
        "Instead of building a CNN from scratch, we’ll use **ResNet18**,  \n",
        "pre-trained on ImageNet, and fine-tune it for pneumonia detection.\n",
        "\n",
        "Why transfer learning?\n",
        "- Saves compute time  \n",
        "- Works well with smaller medical datasets  \n",
        "- Learns general features (edges, textures) and adapts them to X-rays\n"
      ],
      "metadata": {
        "id": "UiLBLhySf0CX"
      }
    },
    {
      "cell_type": "code",
      "source": [
        "#@title Load Pretrained ResNet Model\n",
        "import torch.nn as nn\n",
        "import torchvision.models as models\n",
        "\n",
        "# Load ResNet18\n",
        "model = models.resnet18(pretrained=True)\n",
        "\n",
        "# Modify final layer for binary classification (pneumonia vs normal)\n",
        "num_features = model.fc.in_features\n",
        "model.fc = nn.Linear(num_features, 2)\n",
        "\n",
        "print(\"✅ ResNet18 ready for pneumonia classification!\")\n"
      ],
      "metadata": {
        "id": "BEXNgKSzZ4ZL"
      },
      "execution_count": null,
      "outputs": []
    },
    {
      "cell_type": "markdown",
      "source": [
        "## 2.3 Model Training\n",
        "\n",
        "We’ll fine-tune the model on our dataset.  \n",
        "This may take a while depending on your dataset size.  \n",
        "\n",
        "👉 For teaching purposes, we’ll show the training loop structure here.\n"
      ],
      "metadata": {
        "id": "P66W_FjGf56o"
      }
    },
    {
      "cell_type": "code",
      "source": [
        "#@title Define Training Loop (simplified)\n",
        "import torch.optim as optim\n",
        "\n",
        "criterion = nn.CrossEntropyLoss()\n",
        "optimizer = optim.Adam(model.parameters(), lr=0.001)\n",
        "\n",
        "def train_model(model, train_loader, val_loader, epochs=2):\n",
        "    for epoch in range(epochs):\n",
        "        model.train()\n",
        "        for images, labels in train_loader:\n",
        "            optimizer.zero_grad()\n",
        "            outputs = model(images)\n",
        "            loss = criterion(outputs, labels)\n",
        "            loss.backward()\n",
        "            optimizer.step()\n",
        "        print(f\"Epoch {epoch+1}/{epochs} complete ✅\")\n"
      ],
      "metadata": {
        "id": "nQgjsaLff5uw"
      },
      "execution_count": null,
      "outputs": []
    },
    {
      "cell_type": "markdown",
      "source": [
        "## 2.4 Model Testing & Evaluation\n",
        "\n",
        "Now let’s test the model on unseen data and check its performance.  \n",
        "\n",
        "We’ll calculate:\n",
        "- Accuracy  \n",
        "- Confusion matrix  \n",
        "- Example predictions  \n",
        "\n",
        "👉 In healthcare, evaluation is **critical** — a wrong prediction can mean a missed diagnosis.\n"
      ],
      "metadata": {
        "id": "ygbioWUHf8_y"
      }
    },
    {
      "cell_type": "code",
      "source": [
        "#@title Evaluate the Model\n",
        "from sklearn.metrics import accuracy_score, confusion_matrix\n",
        "import numpy as np\n",
        "\n",
        "def evaluate_model(model, test_loader):\n",
        "    model.eval()\n",
        "    all_preds, all_labels = [], []\n",
        "    with torch.no_grad():\n",
        "        for images, labels in test_loader:\n",
        "            outputs = model(images)\n",
        "            preds = torch.argmax(outputs, 1)\n",
        "            all_preds.extend(preds.numpy())\n",
        "            all_labels.extend(labels.numpy())\n",
        "    acc = accuracy_score(all_labels, all_preds)\n",
        "    cm = confusion_matrix(all_labels, all_preds)\n",
        "    return acc, cm\n"
      ],
      "metadata": {
        "id": "Ss9JGNRZf9iC"
      },
      "execution_count": null,
      "outputs": []
    },
    {
      "cell_type": "markdown",
      "source": [
        "## 2.5 Capstone Project\n",
        "\n",
        "Now it’s your turn 🚀  \n",
        "\n",
        "- Train your model on the pneumonia dataset  \n",
        "- Evaluate its performance  \n",
        "- Visualize some misclassified cases  \n",
        "\n",
        "💡 **Challenge:**  \n",
        "What patterns do you notice in the X-rays that were misclassified?  \n",
        "Could they confuse even a human radiologist?\n"
      ],
      "metadata": {
        "id": "oqv2x7ltf__h"
      }
    },
    {
      "cell_type": "markdown",
      "source": [
        "# 🌍 Ethics & Limitations\n",
        "\n",
        "AI in healthcare is powerful but not perfect.  \n",
        "Consider these questions:\n",
        "- What are the risks of false negatives in pneumonia detection?  \n",
        "- How might bias in the dataset (e.g., only one hospital’s patients) affect results?  \n",
        "- Should AI replace radiologists, or assist them?  \n",
        "\n",
        "---\n",
        "\n",
        "✅ Congratulations! You’ve built your first medical AI pipeline.  \n",
        "In the next notebook, we’ll explore **federated learning** to train across hospitals without sharing patient data.\n"
      ],
      "metadata": {
        "id": "QAKszN9xgBkp"
      }
    }
  ]
}