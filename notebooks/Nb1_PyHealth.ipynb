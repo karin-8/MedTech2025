{
  "nbformat": 4,
  "nbformat_minor": 0,
  "metadata": {
    "colab": {
      "provenance": []
    },
    "kernelspec": {
      "name": "python3",
      "display_name": "Python 3"
    },
    "language_info": {
      "name": "python"
    }
  },
  "cells": [
    {
      "cell_type": "markdown",
      "source": [
        "# 🏥 Notebook 1: Introduction to Python in Healthcare\n",
        "\n",
        "Welcome to the first notebook in our **Applied Machine Learning in Healthcare** series.  \n",
        "This notebook will help you set up your environment and get comfortable running code in Colab.  \n",
        "\n",
        "---\n",
        "\n",
        "## 🎯 Learning Objectives\n",
        "By the end of this notebook, you will be able to:\n",
        "1. Install and import essential Python libraries for machine learning.  \n",
        "2. Verify your environment is ready for healthcare ML projects.  \n",
        "3. Perform your first simple calculation in Python.  \n",
        "\n",
        "---\n",
        "\n",
        "## 🏥 Why this matters\n",
        "Before we can apply machine learning to healthcare, we need the **right tools**.  \n",
        "In this notebook, you’ll:\n",
        "- Install libraries like PyTorch and scikit-learn  \n",
        "- Verify everything works correctly  \n",
        "- Run your **first Python calculation** 🎉  \n",
        "\n",
        "👉 Think of this notebook as your **onboarding step** before diving into medical imaging.\n"
      ],
      "metadata": {
        "id": "Wf6W5_MwpcNP"
      }
    },
    {
      "cell_type": "code",
      "source": [
        "!pip install scikit-learn torch torchvision pillow matplotlib"
      ],
      "metadata": {
        "id": "Mes7ni9opgnb"
      },
      "execution_count": null,
      "outputs": []
    },
    {
      "cell_type": "code",
      "source": [
        "# Import the libraries you just installed\n",
        "import sklearn\n",
        "import torch\n",
        "from PIL import Image"
      ],
      "metadata": {
        "id": "FE5-1o9LZrES"
      },
      "execution_count": null,
      "outputs": []
    },
    {
      "cell_type": "code",
      "source": [
        "# Print the versions to confirm they are ready to use\n",
        "print(f\"Scikit-learn version: {sklearn.__version__}\")"
      ],
      "metadata": {
        "id": "G2xmmN2ipk9s"
      },
      "execution_count": null,
      "outputs": []
    },
    {
      "cell_type": "code",
      "source": [
        "print(f\"PyTorch version: {torch.__version__}\")"
      ],
      "metadata": {
        "id": "tfUfuWLiZwvh"
      },
      "execution_count": null,
      "outputs": []
    },
    {
      "cell_type": "code",
      "source": [
        "print(f\"Pillow version: {Image.__version__}\")"
      ],
      "metadata": {
        "id": "j6Gx1FXHZyMR"
      },
      "execution_count": null,
      "outputs": []
    },
    {
      "cell_type": "markdown",
      "source": [
        "## 1. Your First Python Calculation\n",
        "\n",
        "Let’s practice a simple Python calculation.  \n",
        "You’ll enter two numbers, and Python will add them together.  \n",
        "\n",
        "This may look basic, but it’s the same principle we’ll use later —  \n",
        "whether adding numbers, processing images, or training AI models.\n"
      ],
      "metadata": {
        "id": "2BHfysnOfadk"
      }
    },
    {
      "cell_type": "code",
      "source": [
        "#@title Simple Calculation\n",
        "\n",
        "\n",
        "x = 5  #@param {type:\"number\"}\n",
        "y = 3  #@param {type:\"number\"}\n",
        "\n",
        "z = x + y\n",
        "\n",
        "print(f\"The value of x is: {x}\")\n",
        "print(f\"The value of y is: {y}\")\n",
        "print(f\"The result of x + y is: {z}\")"
      ],
      "metadata": {
        "cellView": "form",
        "id": "vw2ggi17X5sQ"
      },
      "execution_count": null,
      "outputs": []
    },
    {
      "cell_type": "markdown",
      "source": [
        "# ✅ Summary\n",
        "\n",
        "Great job — you’ve:\n",
        "- Installed and verified ML libraries  \n",
        "- Run your first Python code in Colab  \n",
        "- Performed a calculation interactively  \n",
        "\n",
        "---\n",
        "\n",
        "👉 In **Notebook 2**, we’ll start working with **healthcare images (X-rays)** and build a machine learning model for diagnosis.\n"
      ],
      "metadata": {
        "id": "mLk0bC4lfdqM"
      }
    }
  ]
}
