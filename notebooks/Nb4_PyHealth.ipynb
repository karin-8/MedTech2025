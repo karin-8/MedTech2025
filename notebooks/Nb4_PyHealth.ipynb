{
  "nbformat": 4,
  "nbformat_minor": 0,
  "metadata": {
    "colab": {
      "provenance": []
    },
    "kernelspec": {
      "name": "python3",
      "display_name": "Python 3"
    },
    "language_info": {
      "name": "python"
    }
  },
  "cells": [
    {
      "cell_type": "markdown",
      "source": [
        "# 🏥 Notebook 4: AI Engineering\n",
        "\n",
        "In this final notebook, we move beyond training into the **full lifecycle of an AI product**.  \n",
        "This includes **deployment, monitoring, and maintenance**.  \n",
        "\n",
        "---\n",
        "\n",
        "## 🎯 Learning Objectives\n",
        "By the end of this notebook, you will be able to:\n",
        "1. Explain how to deploy an ML model using **FastAPI**.\n",
        "2. Understand how to track experiments and monitor drift with **MLflow**.\n",
        "3. Describe strategies for **automatic retraining**.\n",
        "4. Reflect on challenges of AI in healthcare deployment.  \n",
        "\n",
        "---\n"
      ],
      "metadata": {
        "id": "rqXt0bweiFXf"
      }
    },
    {
      "cell_type": "markdown",
      "source": [
        "## 4.1 Deploying with FastAPI\n",
        "\n",
        "Once trained, a model needs to be **accessible** to apps, clinicians, or hospital systems.  \n",
        "We achieve this by wrapping the model in a web API.  \n",
        "\n",
        "👉 **FastAPI** is a modern, Pythonic framework for building REST APIs.\n",
        "\n",
        "⚠️ Note: Running FastAPI fully requires a server (not just Colab).  \n",
        "Here, we’ll show the *concept* with code snippets.\n"
      ],
      "metadata": {
        "id": "SGsVYaKjiFJg"
      }
    },
    {
      "cell_type": "code",
      "source": [
        "#@title Install Dependencies (FastAPI demo) { display-mode: \"form\" }\n",
        "!pip -q install fastapi uvicorn \"python-multipart\" scikit-learn joblib\n",
        "import joblib\n",
        "from sklearn.linear_model import LogisticRegression\n",
        "from sklearn.datasets import load_iris\n",
        "\n",
        "# Train a tiny demo model\n",
        "iris = load_iris()\n",
        "X, y = iris.data, iris.target\n",
        "clf = LogisticRegression(max_iter=200).fit(X, y)\n",
        "joblib.dump(clf, \"model.joblib\")\n",
        "print(\"✅ Demo model trained & saved (iris dataset)\")\n"
      ],
      "metadata": {
        "id": "y292jSYEiIsQ"
      },
      "execution_count": null,
      "outputs": []
    },
    {
      "cell_type": "code",
      "source": [
        "#@title FastAPI App Example (saved as app.py)\n",
        "%%writefile app.py\n",
        "import joblib\n",
        "from fastapi import FastAPI\n",
        "from pydantic import BaseModel\n",
        "\n",
        "# Load model\n",
        "model = joblib.load(\"model.joblib\")\n",
        "\n",
        "# Define input schema\n",
        "class Features(BaseModel):\n",
        "    sepal_length: float\n",
        "    sepal_width: float\n",
        "    petal_length: float\n",
        "    petal_width: float\n",
        "\n",
        "app = FastAPI(title=\"Demo AI Model API\")\n",
        "\n",
        "@app.get(\"/\")\n",
        "def read_root():\n",
        "    return {\"message\": \"Welcome to the AI Model API!\"}\n",
        "\n",
        "@app.post(\"/predict/\")\n",
        "def predict(features: Features):\n",
        "    data = [[\n",
        "        features.sepal_length,\n",
        "        features.sepal_width,\n",
        "        features.petal_length,\n",
        "        features.petal_width\n",
        "    ]]\n",
        "    prediction = model.predict(data)[0]\n",
        "    return {\"prediction\": int(prediction)}\n"
      ],
      "metadata": {
        "id": "DWTTzzEziKeG"
      },
      "execution_count": null,
      "outputs": []
    },
    {
      "cell_type": "markdown",
      "source": [
        "💡 **How this works**:\n",
        "- `/predict/` endpoint receives JSON patient features.\n",
        "- FastAPI validates input → calls model → returns prediction.  \n",
        "\n",
        "📌 To run locally:  \n",
        "```bash\n",
        "uvicorn app:app --reload\n",
        "```"
      ],
      "metadata": {
        "id": "2AOybqBniKT5"
      }
    },
    {
      "cell_type": "markdown",
      "source": [
        "\n",
        "### 📊 4.2 Model Monitoring with MLflow  \n",
        "\n",
        "```markdown\n",
        "## 4.2 Model Monitoring with MLflow\n",
        "\n",
        "After deployment, we must **track performance** over time.  \n",
        "- **Experiment tracking:** log hyperparams, metrics, artifacts  \n",
        "- **Model registry:** manage versions (v1, v2…)  \n",
        "- **Monitoring drift:** detect if performance declines on new patient data"
      ],
      "metadata": {
        "id": "6JU-LTRZiWNa"
      }
    },
    {
      "cell_type": "code",
      "source": [
        "#@title MLflow Demo (Logging Run)\n",
        "!pip -q install mlflow\n",
        "\n",
        "import mlflow\n",
        "import numpy as np\n",
        "from sklearn.metrics import accuracy_score\n",
        "\n",
        "# Mock training\n",
        "X_train, y_train = X, y\n",
        "y_pred = clf.predict(X_train)\n",
        "acc = accuracy_score(y_train, y_pred)\n",
        "\n",
        "with mlflow.start_run():\n",
        "    mlflow.log_param(\"model_type\", \"Logistic Regression\")\n",
        "    mlflow.log_metric(\"accuracy\", acc)\n",
        "    mlflow.sklearn.log_model(clf, \"model\")\n",
        "\n",
        "print(\"✅ Logged run to MLflow (local tracking server needed for UI)\")\n"
      ],
      "metadata": {
        "id": "SqGrP1wYiab6"
      },
      "execution_count": null,
      "outputs": []
    },
    {
      "cell_type": "markdown",
      "source": [
        "## 4.3 Automatic Retraining\n",
        "\n",
        "Models can degrade over time (called **drift**) due to:\n",
        "- Changing patient populations\n",
        "- New hospital equipment\n",
        "- Data recording practices\n",
        "\n",
        "**Solution:** retrain periodically or when metrics drop below a threshold.  \n",
        "\n",
        "⚠️ In production, this would be done with:\n",
        "- ML pipelines (Airflow, Kubeflow)\n",
        "- Continuous retraining jobs\n",
        "- Human-in-the-loop for validation\n"
      ],
      "metadata": {
        "id": "1BIChyQ0icBi"
      }
    },
    {
      "cell_type": "code",
      "source": [
        "#@title Pseudo-code for Retraining Trigger\n",
        "performance = 0.70  # Mock accuracy\n",
        "threshold = 0.75\n",
        "\n",
        "if performance < threshold:\n",
        "    print(\"⚠️ Performance below threshold. Triggering retraining pipeline...\")\n",
        "    # In real setup: fetch new data → retrain model → log with MLflow → redeploy\n",
        "else:\n",
        "    print(\"✅ Performance acceptable. No retraining required.\")\n"
      ],
      "metadata": {
        "id": "GU09Xf_XidiU"
      },
      "execution_count": null,
      "outputs": []
    },
    {
      "cell_type": "markdown",
      "source": [
        "# ✅ Summary\n",
        "\n",
        "In this notebook, you learned:\n",
        "- How to wrap a model in a FastAPI service.\n",
        "- How to log experiments & metrics with MLflow.\n",
        "- Why automatic retraining is critical.\n",
        "\n",
        "---\n",
        "\n",
        "## 🌍 Reflection\n",
        "1. What risks arise if a deployed healthcare model drifts unnoticed?  \n",
        "2. Who should approve retrained models before deployment?  \n",
        "3. How would you design a **safe retraining policy** in a hospital?  \n",
        "\n",
        "---\n",
        "\n",
        "🎉 Congratulations! You’ve completed the course:\n",
        "- **Notebook 1:** Setup & Python Basics  \n",
        "- **Notebook 2:** ML for Pneumonia Detection  \n",
        "- **Notebook 3:** ML with Tabular Data  \n",
        "- **Notebook 4:** AI Engineering & Deployment  \n",
        "\n",
        "👉 Next steps: Build your **own healthcare AI project**, from data → model → deployment.\n"
      ],
      "metadata": {
        "id": "RLesOL59ifGL"
      }
    }
  ]
}
